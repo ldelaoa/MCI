{
  "nbformat": 4,
  "nbformat_minor": 0,
  "metadata": {
    "colab": {
      "name": "Módulo Optimización.ipynb",
      "version": "0.3.2",
      "provenance": [],
      "collapsed_sections": [
        "hN5d39I8QjiJ"
      ],
      "toc_visible": true,
      "include_colab_link": true
    },
    "kernelspec": {
      "name": "python3",
      "display_name": "Python 3"
    }
  },
  "cells": [
    {
      "cell_type": "markdown",
      "metadata": {
        "id": "view-in-github",
        "colab_type": "text"
      },
      "source": [
        "<a href=\"https://colab.research.google.com/github/ldelaoa/MCI/blob/master/M%C3%B3dulo_Optimizaci%C3%B3n.ipynb\" target=\"_parent\"><img src=\"https://colab.research.google.com/assets/colab-badge.svg\" alt=\"Open In Colab\"/></a>"
      ]
    },
    {
      "metadata": {
        "id": "VprDXu8-dBze",
        "colab_type": "text"
      },
      "cell_type": "markdown",
      "source": [
        "# Fundamentos de optimización\n",
        "\n"
      ]
    },
    {
      "metadata": {
        "id": "J4RwJQvsmlPt",
        "colab_type": "text"
      },
      "cell_type": "markdown",
      "source": [
        "La teoría de optimización clásica o programación matemática está constituida por un conjunto de resultados y métodos analíticos y numéricos enfocados a encontrar e identiﬁcar al mejor candidato de entre una colección de alternativas, sin tener que enumerar y evaluar explícitamente todas esas alternativas. Un problema de optimización es, en general, un problema de decisión."
      ]
    },
    {
      "metadata": {
        "id": "SC-fVo0OeyhM",
        "colab_type": "text"
      },
      "cell_type": "markdown",
      "source": [
        "##  Conceptos básicos"
      ]
    },
    {
      "metadata": {
        "id": "75skkoIZmi_s",
        "colab_type": "text"
      },
      "cell_type": "markdown",
      "source": [
        "###Ejemplo (Construcción de una caja con volumen máximo)###"
      ]
    },
    {
      "metadata": {
        "id": "pOh3q-wI5WWO",
        "colab_type": "text"
      },
      "cell_type": "markdown",
      "source": [
        "Supongamos que queremos determinar las dimensiones de una caja rectangular de forma que contenga el mayor volumen posible, pero utilizando para ello una cantidad ﬁja de material. El problema en forma abstracta se podría plantear en los siguientes términos:\n",
        "\n",
        "\\begin{equation}\n",
        "\\begin{array}{cc}\n",
        "Maximizar & Volumen\\ de\\  la\\ caja \\\\\n",
        "sujeto \\ a & Área \\ lateral \\ fija \\\\\n",
        "\\end{array}\n",
        "\\end{equation}\n",
        "\n",
        "Con el ﬁn de resolver este problema habrá que modelizarlo matemáticamente, es decir tendremos que expresarlo en términos matemáticos. El primer paso para modelizar un problema de optimización es identiﬁcar y deﬁnir las variables que están implicadas en dicho problema, en este caso y puesto que estamos tratando de determinar el tamaño de una caja rectangular, la opción más clara es considerar como variables sus tres dimensiones rectangulares usuales (ancho, largo, alto) y que representamos con $x$, $y$, $z$.\n",
        "\n",
        "<img  src=\"https://sites.google.com/site/anselyrg/home/calcular-volumen-de-una-caja.jpg\"  width=256 >\n",
        "\n",
        "Con estas variables, la función para la que tenemos que encontrar el mejor valor será el volumen de la caja que puede expresarse como:\n",
        "\n",
        "\\begin{equation}\n",
        "V(x,y,z)=xyz\n",
        "\\end{equation}\n",
        "\n",
        "A continuación debemos tener en cuenta las limitaciones existentes sobre el material. Como este material se utiliza para construir las paredes de la caja, necesitaremos considerar el área lateral de la misma, y si la caja tiene tapa, dicha área será:\n",
        "\n",
        "\\begin{equation}\n",
        "A(x,y,z)=2(xy+yz+zx)\n",
        "\\end{equation}\n",
        "\n",
        "Por último, teniendo en cuenta que las dimensiones de la caja no pueden ser negativas el problema puede expresarse matemáticamente como:\n",
        "\n",
        "\\begin{equation}\n",
        "\\begin{array}{cc}\n",
        "Maximizar & V(x,y,z) \\\\\n",
        "sujeto \\ a & 2(xy+yz+zx) = A \\\\\n",
        "                & x,y,z \\geq 0 \\\\\n",
        "\\end{array}\n",
        "\\end{equation}"
      ]
    },
    {
      "metadata": {
        "id": "YI2bRu7eszF-",
        "colab_type": "text"
      },
      "cell_type": "markdown",
      "source": [
        "En este ejemplo se distinguen tres elementos fundamentales: las variables del problema, una función de esas variables y un conjunto de relaciones que deben cumplir las variables del problema. Estos elementos se repetirán en todos los problemas de optimización y se definen formalmente a continuación: "
      ]
    },
    {
      "metadata": {
        "id": "gdpdQJsitBjQ",
        "colab_type": "text"
      },
      "cell_type": "markdown",
      "source": [
        "###Variables de decisión###"
      ]
    },
    {
      "metadata": {
        "id": "bR98Jc6t5vwK",
        "colab_type": "text"
      },
      "cell_type": "markdown",
      "source": [
        "El primer elemento clave en la formulación de problemas de optimización es la selección de las variables independientes que sean adecuadas para caracterizar los posibles diseños candidatos y las condiciones de funcionamiento del sistema. Como variables independientes se suelen elegir aquellas que tienen un impacto significativo sobre la función objetivo. \n",
        "\n",
        "Las variables independientes se representarán mediante vectores columna de $\\mathbb{R}^n$\n",
        "\n",
        "\\begin{equation}\n",
        "x=\\left(\n",
        "\\begin{array}{c}\n",
        "x_1 \\\\\n",
        "\\vdots\\\\\n",
        "x_n\n",
        "\\end{array}\n",
        "\\right)\n",
        "\\end{equation}\n",
        "\n",
        "o vectores ﬁla\n",
        "\n",
        "\\begin{equation}\n",
        "x^T=\\left(\n",
        "x_1,...,x_n\n",
        "\\right)\n",
        "\\end{equation}\n",
        "\n",
        "\n",
        "Aunque para los casos\t$n=1$, $2$ y $3$ se emplearán las notaciones usuales de $x$, $(x,y)$ y $(x,y,z)$ respectivamente. "
      ]
    },
    {
      "metadata": {
        "id": "Lr8lQmD8tB-H",
        "colab_type": "text"
      },
      "cell_type": "markdown",
      "source": [
        "###Restricciones### "
      ]
    },
    {
      "metadata": {
        "id": "8fTB7mw36N4O",
        "colab_type": "text"
      },
      "cell_type": "markdown",
      "source": [
        "Una vez determinadas las variables independientes, el siguiente paso es establecer, mediante ecuaciones o inecuaciones las relaciones existentes entre las variables de decisión. Estas relaciones son debidas, entre otras razones, a limitaciones en el sistema, a leyes naturales o a limitaciones tecnológicas y son las llamadas restricciones del sistema. Podemos distinguir dos tipos de restricciones: \n",
        "\n",
        "*Restricciones de igualdad*: Son ecuaciones entre las variables de la forma\n",
        "\\begin{equation}\n",
        "h(x)=h\\left(\n",
        "x_1,...,x_n\n",
        "\\right)\n",
        "=0\n",
        "\\end{equation}\n",
        "donde $h : A ⊆ \\mathbb{R}^n → \\mathbb{R}$ es una función real de variables reales deﬁnida sobre un conjunto $A$ de números reales. \n",
        "\n",
        "*Restricciones de desigualdad:* Son inecuaciones entre las variables de la forma \n",
        "\\begin{equation}\n",
        "g(x)=g\\left(\n",
        "x_1,...,x_n\n",
        "\\right)\n",
        "\\leq 0\n",
        "\\end{equation}\n",
        "donde  $g : A ⊆ \\mathbb{R}^n → \\mathbb{R}$ es una función real de variables reales deﬁnida sobre un conjunto $A$ de números reales."
      ]
    },
    {
      "metadata": {
        "id": "h_ymsV_6tCQz",
        "colab_type": "text"
      },
      "cell_type": "markdown",
      "source": [
        "\n",
        "\n",
        "<img src=\"https://sites.google.com/site/anselyrg/home/icono_anotacion.jpg\" width=24 > Solamente se han considerado restricciones de dos tipos: restricciones de igualdad del forma\n",
        "$\n",
        "h(x)=h\\left(\n",
        "x_1,...,x_n\n",
        "\\right)\n",
        "=0\n",
        "$ y restricciones de desigualdad de la forma $g(x)=g\\left(\n",
        "x_1,...,x_n\n",
        "\\right)\n",
        "\\leq 0$, debido a que siempre es posible, mediante una simple transformación, expresar el problema en términos de esta clase de restricciones, tal y como se puede apreciar en la siguiente tabla:\n",
        "\n",
        "\\begin{equation}\n",
        "\\begin{array}{c|c|c}\n",
        "Tipo\\  de\\  Restricción & Transformación & Nueva\\  Restricción \\\\\n",
        "\\hline\n",
        "h(x_1,...,x_n)=b       & \\hat{h}=h-b        & \\hat{h}(x_1,...,x_n)=0 \\\\\n",
        "g(x_1,...,x_n)\\leq c  & \\hat{g}=g-c        & \\hat{g}(x_1,...,x_n)\\leq 0 \\\\\n",
        "g(x_1,...,x_n)\\geq c & \\hat{g}=c-g        & \\hat{g}(x_1,...,x_n)\\leq 0 \\\\\n",
        "\\end{array}\n",
        "\\end{equation}\n"
      ]
    },
    {
      "metadata": {
        "id": "Fu78ak3P6tlW",
        "colab_type": "text"
      },
      "cell_type": "markdown",
      "source": [
        " <img src=\"https://sites.google.com/site/anselyrg/home/icono_anotacion.jpg\" width=24 > Las condiciones sobre las variables del tipo $x_i\\geq 0$, $x_i\\leq 0$ o similares no se incluyen dentro de este conjunto de restricciones y tienen un tratamiento particular, son restricciones en las variables o llamadas de tipo cota. "
      ]
    },
    {
      "metadata": {
        "id": "Si88wD3a7cYk",
        "colab_type": "text"
      },
      "cell_type": "markdown",
      "source": [
        "###Función objetivo### "
      ]
    },
    {
      "metadata": {
        "id": "r7EZjZHd6bNf",
        "colab_type": "text"
      },
      "cell_type": "markdown",
      "source": [
        "Finalmente, el último ingrediente de un problema de optimización es la función objetivo, también llamado índice de rendimiento o criterio de elección. Este es el elemento utilizado para decidir los valores adecuados de las variables de decisión que resuelven el problema de optimización. La función objetivo permite determinar los mejores valores para las variables de decisión.\n",
        "\n",
        "Independientemente del criterio seleccionado, dentro del contexto de la optimización matemática el adjetivo “mejor” siempre indica los valores de las variables de decisión que producen el mínimo o máximo valor (según el criterio utilizado) de la función objetivo elegida. \n",
        "\n",
        "Algunos de estos criterios pueden ser por ejemplo de tipo económico (coste total, beneﬁcio), de tipo tecnológico (energía mínima, máxima capacidad de carga, máxima tasa de producción) o de tipo temporal (tiempo de producción mínimo) entre otros."
      ]
    },
    {
      "metadata": {
        "id": "Hqh2FMPNkCHo",
        "colab_type": "text"
      },
      "cell_type": "markdown",
      "source": [
        "Con la introducción de estos tres elementos, el objetivo de los problemas de optimización matemática está claro: Un problema de optimización consiste en la búsqueda de valores para unas determinadas variables (variables de decisión) de forma que, cumpliendo un conjunto de requisitos representados mediante ecuaciones y/o inecuaciones algebráicas (restricciones) que limitarán la elección de los valores de las variables de decisión, proporcionan el mejor valor posible para una función (función objetivo)."
      ]
    },
    {
      "metadata": {
        "id": "n8BPqhjjfF2G",
        "colab_type": "text"
      },
      "cell_type": "markdown",
      "source": [
        "##  Minimizar vs maximizar"
      ]
    },
    {
      "metadata": {
        "id": "W0jA4pWcRwgj",
        "colab_type": "text"
      },
      "cell_type": "markdown",
      "source": [
        "El término **Optimizar** incluirá a ambos objetivos tanto de **Minimización** como de **Maximización**. No obstante y en relación a este aspecto, la mayoría de los planteamientos pueden hacerse con uno sólo de los objetivos, por ejemplo el de minimización.\n",
        "\n",
        "Un problema con objetivo de maximización se puede transformar en otro equivalente con objetivo de minimización multiplicando para ello la función objetivo por ($−1$) tal y como podemos comprobar en la figura siguiente.\n",
        "\n",
        "<img  src=\"https://sites.google.com/site/anselyrg/home/minmax.png\"  width=512 >\n",
        "\n",
        "\n",
        "\n",
        "El mínimo de la función $f (x) = x^2 +1$ se alcanza en el punto $x^∗ = 0$. En este punto también alcanza el máximo la función opuesta $-f(x)$\n",
        "\n",
        " <img src=\"https://sites.google.com/site/anselyrg/home/icono_anotacion.jpg\" width=24 > Aunque el punto buscado en ambos casos es el mismo ($x^∗ = 0$), los valores que cada función toma en dicho punto son justamente uno el opuesto del otro:\n",
        "\n",
        "\\begin{equation}\n",
        "f (0) = 1\n",
        "\\end{equation}\n",
        "\n",
        "\\begin{equation}\n",
        "-f (0)=-1\n",
        "\\end{equation}\n",
        "\n"
      ]
    },
    {
      "metadata": {
        "id": "V51QGIXtfUjo",
        "colab_type": "text"
      },
      "cell_type": "markdown",
      "source": [
        "## Solución factible y conjunto factible"
      ]
    },
    {
      "metadata": {
        "id": "qAOCy3Bhp_3n",
        "colab_type": "text"
      },
      "cell_type": "markdown",
      "source": [
        "###Solución factible### "
      ]
    },
    {
      "metadata": {
        "id": "N9ymEigm72qj",
        "colab_type": "text"
      },
      "cell_type": "markdown",
      "source": [
        "\n",
        "Diremos que $\\bar{x} = (\\bar{x_1},...,\\bar{x_n})\\in A\\subseteq \\mathbb{R}^n$   es una solución factible\n",
        "de un problenla de optimización si y solo si cumple todas sus restricciones"
      ]
    },
    {
      "metadata": {
        "id": "K6_7u5EC8SIf",
        "colab_type": "text"
      },
      "cell_type": "markdown",
      "source": [
        "###Conjunto factible###"
      ]
    },
    {
      "metadata": {
        "id": "Grk1dIrZ8Nfm",
        "colab_type": "text"
      },
      "cell_type": "markdown",
      "source": [
        "Se define región o conjunto factible $\\Omega$ de un problema de optimización al conjunto de todas sus soluciones factibles\n",
        "\n",
        "\\begin{equation}\n",
        "\\Omega = \\{ \\bar{x}\\in A \\subseteq  \\mathbb{R}^n : x\\ es\\  una\\  solución\\ factible \\}\n",
        "\\end{equation}\n",
        "\n",
        "<img  src=\"https://sites.google.com/site/anselyrg/home/regionfactible.png\"  width=400 >"
      ]
    },
    {
      "metadata": {
        "id": "sBi3lZ06fmEL",
        "colab_type": "text"
      },
      "cell_type": "markdown",
      "source": [
        "## Óptimos locales y óptimo global\n"
      ]
    },
    {
      "metadata": {
        "id": "hN5d39I8QjiJ",
        "colab_type": "text"
      },
      "cell_type": "markdown",
      "source": [
        "###Mínimo global### "
      ]
    },
    {
      "metadata": {
        "id": "g5l8eePG8wnd",
        "colab_type": "text"
      },
      "cell_type": "markdown",
      "source": [
        "Diremos que $x^* = (x^*_1,...,x^*_n) \\in \\Omega \\subseteq \\mathbb{R}^n$ es un mínimo global del\n",
        "problema  o que $f(x)$ tiene un mínimo global sobre  el conjunto factible $\\Omega$,  si \n",
        "\n",
        " \\begin{equation}\n",
        "\\forall \\bar{x}  \\in \\Omega; \\bar{x}\\neq x^* \\rightarrow  f(x^*) \\leq  f(\\bar{x})\n",
        "\\end{equation}\n",
        "\n",
        "<img  src=\"https://sites.google.com/site/anselyrg/home/regionfactibleminG.png\"  width=400 >\n",
        "\n",
        "El punto $x^*$ será mínimo global estricto si la desigualdad es estricta\n",
        "\n",
        "\\begin{equation}\n",
        "\\forall \\bar{x}  \\in \\Omega; \\bar{x}\\neq x^* \\rightarrow  f(x^*) <  f(\\bar{x})\n",
        "\\end{equation}\n",
        "\n",
        "Esta definición implica que no hay en $\\Omega$ un punto en el que la función tome un valor menor que\n",
        "el que toma en $x^*$."
      ]
    },
    {
      "metadata": {
        "id": "HrwTyjU_87Je",
        "colab_type": "text"
      },
      "cell_type": "markdown",
      "source": [
        "###Máximo global ###"
      ]
    },
    {
      "metadata": {
        "id": "DQv2MWqtURJX",
        "colab_type": "text"
      },
      "cell_type": "markdown",
      "source": [
        "Diremos que $x^* = (x^*_1,...,x^*_n) \\in \\Omega \\subseteq \\mathbb{R}^n$ es un máximo global del\n",
        "problema  o que $f(x)$ tiene un máximo global sobre  el conjunto factible $\\Omega$,  si \n",
        "\n",
        " \\begin{equation}\n",
        "\\forall \\bar{x}  \\in \\Omega; \\bar{x}\\neq x^* \\rightarrow  f(x^*) \\geq  f(\\bar{x})\n",
        "\\end{equation}\n",
        "\n",
        "<img  src=\"https://sites.google.com/site/anselyrg/home/regionfactiblemaxG.png\"  width=400 >\n",
        "\n",
        "El punto $x^*$ será máximo global estricto si la desigualdad es estricta\n",
        "\n",
        "\\begin{equation}\n",
        "\\forall \\bar{x}  \\in \\Omega; \\bar{x}\\neq x^* \\rightarrow  f(x^*) >  f(\\bar{x})\n",
        "\\end{equation}\n",
        "\n",
        "Esta definición implica que no hay en $\\Omega$ un punto en el que la función tome un valor mayor que\n",
        "el que toma en $x^*$."
      ]
    },
    {
      "metadata": {
        "id": "5QMPAlv-ZRM1",
        "colab_type": "text"
      },
      "cell_type": "markdown",
      "source": [
        " <img src=\"https://sites.google.com/site/anselyrg/home/icono_anotacion.jpg\" width=24 > Los máximos y mínimos globales de un problema de optimización se denominan extremos globales."
      ]
    },
    {
      "metadata": {
        "id": "3i4Zg2BD9N5w",
        "colab_type": "text"
      },
      "cell_type": "markdown",
      "source": [
        "###Solución óptima###"
      ]
    },
    {
      "metadata": {
        "id": "QmIbRPOhZuiK",
        "colab_type": "text"
      },
      "cell_type": "markdown",
      "source": [
        "Diremos que  $x^* \\in \\Omega \\subseteq \\mathbb{R}^n$ es una solución óptima del problema  o que  $f(x)$ tiene un óptimo en $x^*$ sobre el conjunto factible $\\Omega$ si ocurre alguna de estas dos\n",
        "situaciones\n",
        "1. $x^*$ es un mínimo global del problema y el objetivo del problema es minimizar.\n",
        "2. $x^*$ es un máximo global del problema y el objetivo del problema es maximizar."
      ]
    },
    {
      "metadata": {
        "id": "dGSuZ6SY9YWE",
        "colab_type": "text"
      },
      "cell_type": "markdown",
      "source": [
        "###Valor óptimo###  "
      ]
    },
    {
      "metadata": {
        "id": "HeRWK_lsagyH",
        "colab_type": "text"
      },
      "cell_type": "markdown",
      "source": [
        "$x^* \\in \\Omega \\subseteq \\mathbb{R}^n$ es una solución óptima del problema, entonces se define el valor óptimo como el valor de la función objetivo en la solución óptima, es decir, si $x^*$ es una solución óptima del problema , entonces $f(x^*)$ es el valor óptimo.\n",
        "\n",
        "Resolver un problema de optimización es encontrar, si existen, sus soluciones óptimas, es decir los extremos globales de la función objetivo sobre el conjunto factible. Desde el punto de vista práctico y computacional en algunas ocasiones bastará con obtener los llamados extremos locales."
      ]
    },
    {
      "metadata": {
        "id": "kukuJhg89hiH",
        "colab_type": "text"
      },
      "cell_type": "markdown",
      "source": [
        "###Mínimo local ###"
      ]
    },
    {
      "metadata": {
        "id": "oj4G7i6ZcH4r",
        "colab_type": "text"
      },
      "cell_type": "markdown",
      "source": [
        "Consideremos el problema de optimización  y sea $\\Omega$ su conjunto\n",
        "factible. Diremos que $x^* \\in \\Omega \\subseteq \\mathbb{R}^n$ es un mínimo local o relativo de $f(x)$ en $\\Omega$  si y sólo si\n",
        "\n",
        "\\begin{equation}\n",
        "\\exists  \\epsilon >0 \\ tal \\ que\\ \\forall \\bar{x}  \\in \\Omega; \\bar{x}\\neq x^*; ||\\bar{x}- x^*||<\\epsilon \\rightarrow  f(x^*) \\leq  f(\\bar{x})\n",
        "\\end{equation}\n",
        "\n",
        "El punto $x^*$  será un mínimo local estricto de $f(x)$ en $\\Omega$  si la desigualdad es estricta\n",
        "\n",
        "\\begin{equation}\n",
        "\\exists  \\epsilon >0 \\ tal \\ que\\ \\forall \\bar{x}  \\in \\Omega; \\bar{x}\\neq x^*; ||\\bar{x}- x^*||<\\epsilon \\rightarrow  f(x^*) <  f(\\bar{x})\n",
        "\\end{equation}"
      ]
    },
    {
      "metadata": {
        "id": "gMfYKlOp9r3A",
        "colab_type": "text"
      },
      "cell_type": "markdown",
      "source": [
        "###Máximo local### "
      ]
    },
    {
      "metadata": {
        "id": "LajA6MepfFiH",
        "colab_type": "text"
      },
      "cell_type": "markdown",
      "source": [
        "Consideremos el problema de optimización  y sea $\\Omega$ su conjunto\n",
        "factible. Diremos que $x^* \\in \\Omega \\subseteq \\mathbb{R}^n$ es un máximo local o relativo de $f(x)$ en $\\Omega$  si y sólo si\n",
        "\n",
        "\\begin{equation}\n",
        "\\exists  \\epsilon >0 \\ tal \\ que\\ \\forall \\bar{x}  \\in \\Omega; \\bar{x}\\neq x^*; ||\\bar{x}- x^*||<\\epsilon \\rightarrow  f(x^*) \\geq  f(\\bar{x})\n",
        "\\end{equation}\n",
        "\n",
        "El punto $x^*$  será un máximo local estricto de $f(x)$ en $\\Omega$  si la desigualdad es estricta\n",
        "\n",
        "\\begin{equation}\n",
        "\\exists  \\epsilon >0 \\ tal \\ que\\ \\forall \\bar{x}  \\in \\Omega; \\bar{x}\\neq x^*; ||\\bar{x}- x^*||<\\epsilon \\rightarrow  f(x^*) >  f(\\bar{x})\n",
        "\\end{equation}"
      ]
    },
    {
      "metadata": {
        "id": "qYvRYjvNsKq1",
        "colab_type": "text"
      },
      "cell_type": "markdown",
      "source": [
        "<img  src=\"https://sites.google.com/site/anselyrg/home/1200px-Extrema_example_es.svg.png\"  width=400 >"
      ]
    },
    {
      "metadata": {
        "id": "fDkZtdv5fmrD",
        "colab_type": "text"
      },
      "cell_type": "markdown",
      "source": [
        "## Funciones convexas y cóncavas"
      ]
    },
    {
      "metadata": {
        "id": "E8lbUqRyob_t",
        "colab_type": "text"
      },
      "cell_type": "markdown",
      "source": [
        "El concepto de convexidad es de gran importancia en el estudio de los problemas de optimización desde el punto de vista de la aplicación práctica, puesto que en algunos casos, bajo condiciones de convexidad, se puede garantizar que un extremo local de un problema es realmente un extremo global y por tanto la solución óptima del problema buscada. "
      ]
    },
    {
      "metadata": {
        "id": "lr5VlyTF-TIW",
        "colab_type": "text"
      },
      "cell_type": "markdown",
      "source": [
        "###Conjunto convexo###"
      ]
    },
    {
      "metadata": {
        "id": "0LueshnOTva6",
        "colab_type": "text"
      },
      "cell_type": "markdown",
      "source": [
        "Sea  $\\Omega \\subseteq \\mathbb{R}^n$ entonces $\\Omega$ es convexo \n",
        "$\\longleftrightarrow$ $\\forall x, x' \\in \\Omega$  $\\rightarrow$ el segmento lineal $[x, x'] \\subseteq\\Omega$\n",
        "\n",
        "\n",
        "\n",
        "<img  src=\"https://sites.google.com/site/anselyrg/home/concavoyno.png\"  width=600 >\n",
        "\n"
      ]
    },
    {
      "metadata": {
        "id": "KYhJmGtH-cgp",
        "colab_type": "text"
      },
      "cell_type": "markdown",
      "source": [
        "###Función convexa###"
      ]
    },
    {
      "metadata": {
        "id": "7A2XfaRXaAeX",
        "colab_type": "text"
      },
      "cell_type": "markdown",
      "source": [
        "Diremos que la función $f: \\Omega \\subseteq \\mathbb{R}^n \\rightarrow  \\mathbb{R}$  , con $\\Omega$ un conjunto\n",
        "convexo no vacío, es convexa sobre $\\Omega$   si y solo si\n",
        "\n",
        "\\begin{equation}\n",
        "\\forall x, x'  \\in \\Omega, \\lambda  \\in [0,1]  \\rightarrow  f(\\lambda x + (1-\\lambda)x') \\leq  \\lambda f(x) + (1-\\lambda)f(x')\n",
        "\\end{equation}\n",
        "\n",
        "Se dice que $f$ estrictamente convexa si y solo si\n",
        "\n",
        "\\begin{equation}\n",
        "\\forall x, x'  \\in \\Omega, \\lambda  \\in [0,1]  \\rightarrow  f(\\lambda x + (1-\\lambda)x') <  \\lambda f(x) + (1-\\lambda)f(x')\n",
        "\\end{equation}\n",
        "\n",
        "<img  src=\"https://sites.google.com/site/anselyrg/home/convexa.jpg\"  width=300 >"
      ]
    },
    {
      "metadata": {
        "id": "1Oij4XTb-i9D",
        "colab_type": "text"
      },
      "cell_type": "markdown",
      "source": [
        "###Función concava### "
      ]
    },
    {
      "metadata": {
        "id": "m4RIomhIdep6",
        "colab_type": "text"
      },
      "cell_type": "markdown",
      "source": [
        "Diremos que la función $f: \\Omega \\subseteq \\mathbb{R}^n \\rightarrow  \\mathbb{R}$  , con $\\Omega$ un conjunto\n",
        "convexo no vacío, es concava sobre $\\Omega$   si y solo si\n",
        "\n",
        "\\begin{equation}\n",
        "\\forall x, x'  \\in \\Omega, \\lambda  \\in [0,1]  \\rightarrow  f(\\lambda x + (1-\\lambda)x') \\geq  \\lambda f(x) + (1-\\lambda)f(x')\n",
        "\\end{equation}\n",
        "$\\\\$\n",
        "\n",
        "Se dice que $f$ estrictamente concava si y solo si\n",
        "\n",
        "\\begin{equation}\n",
        "\\forall x, x'  \\in \\Omega, \\lambda  \\in [0,1]  \\rightarrow  f(\\lambda x + (1-\\lambda)x') >  \\lambda f(x) + (1-\\lambda)f(x')\n",
        "\\end{equation}\n",
        "\n",
        "<img  src=\"https://sites.google.com/site/anselyrg/home/concava.jpg\"  width=300 >\n"
      ]
    },
    {
      "metadata": {
        "id": "NjTFEAoz47sh",
        "colab_type": "text"
      },
      "cell_type": "markdown",
      "source": [
        "## Ejemplo: Optimización en el Aprendizaje Automático"
      ]
    },
    {
      "metadata": {
        "id": "YEEOzanvasAl",
        "colab_type": "text"
      },
      "cell_type": "markdown",
      "source": [
        "###Regresion Lineal### "
      ]
    },
    {
      "metadata": {
        "id": "WdIP9tKz_yNJ",
        "colab_type": "text"
      },
      "cell_type": "markdown",
      "source": [
        "Supongamos que tenemos una coleccion de datos sobre grillos en particular la cantidad de cantos por minuto para diferentes valores de  la temperatura y queremos aprender un modelo para predecir dicha relación.  Veamos la  representación grafica de los datos:\n",
        "\n",
        "<img  src=\"https://developers.google.com/machine-learning/crash-course/images/CricketPoints.svg\"  width=512 >\n",
        "\n",
        "La cantidad de cantos aumenta con la temperatura. ¿Es lineal la relación entre los cantos y la temperatura? Aparentemente sí, ya que es posible dibujar una línea recta como la siguiente para representar dicha relación:\n",
        "\n",
        "\n",
        "<img  src=\"https://developers.google.com/machine-learning/crash-course/images/CricketLine.svg\"  width=512 >\n",
        "\n",
        "La línea no pasa perfectamente por cada punto pero muestra con claridad la relación entre la temperatura y los cantos por minuto. \n",
        "dicha línea la podemos definir de la siguiente manera:\n",
        "\n",
        "\\begin{equation}\n",
        "y = mx+b\n",
        "\\end{equation}\n",
        "\n",
        "donde:\n",
        "\n",
        " *   $y$ es la temperatura en grados centígrados, correspondiente al valor que intentamos predecir.\n",
        " *   $m$ es la pendiente de la línea.\n",
        " *   $x$ es la cantidad de cantos por minuto, correspondiente al valor de nuestro atributo de entrada.\n",
        " *   $b$ es la intersección en y.\n",
        "\n",
        "Según las convenciones del aprendizaje automático, la ecuación para un modelo se escribirá de una forma un poco diferente:\n",
        "\n",
        "\\begin{equation}\n",
        "y' = b+w_1 x_1\n",
        "\\end{equation}\n",
        "\n",
        "donde:\n",
        "\n",
        "  *   $y'$ es la etiqueta predicha (un resultado deseado).\n",
        "  *   $b$ es la ordenada al origen (la intersección en y). En alguna literatura de aprendizaje automático, se hace referencia a ella como $w_0$.\n",
        "  *   $w_1$ es la ponderación del atributo 1. La ponderación es el mismo concepto de la \"pendiente\" , que se indicó anteriormente.\n",
        "  *   $x_1$ es un atributo (una entrada conocida).\n",
        "  \n",
        "  Para inferir (predecir) la temperatura  $y'$ para un valor nuevo de cantos por minuto , solo agrega el valor de   $x_1$ a este modelo.\n",
        "  \n",
        "  "
      ]
    },
    {
      "metadata": {
        "id": "47KZk64vZaRd",
        "colab_type": "text"
      },
      "cell_type": "markdown",
      "source": [
        " <img src=\"https://sites.google.com/site/anselyrg/home/icono_anotacion.jpg\" width=24 > Los subíndices (p. ej.,  $w_1$ y $x_1$ ) indican modelos más sofisticados que se basan en varios atributos. Por ejemplo, un modelo que se basa en tres atributos usaría la siguiente ecuación:\n",
        " \n",
        " \\begin{equation}\n",
        "y' = b+w_1 x_1+w_2 x_2+w_3 x_3\n",
        "\\end{equation}\n",
        "\n"
      ]
    },
    {
      "metadata": {
        "id": "SSQDGP5e7Olb",
        "colab_type": "code",
        "colab": {}
      },
      "cell_type": "code",
      "source": [
        "# Se importan algunas librerías que usaremos más adelandte\n",
        "\n",
        "import numpy as np\n",
        "import scipy as sc\n",
        "\n",
        "import matplotlib.pyplot as plt"
      ],
      "execution_count": 0,
      "outputs": []
    },
    {
      "metadata": {
        "id": "7charXal7Qg6",
        "colab_type": "code",
        "colab": {}
      },
      "cell_type": "code",
      "source": [
        "# definimos la función recta\n",
        "\n",
        "def line(w0, w1, x):\n",
        "  return w0 + w1*x"
      ],
      "execution_count": 0,
      "outputs": []
    },
    {
      "metadata": {
        "id": "Y52pFU-F7h4P",
        "colab_type": "code",
        "outputId": "eb65b8b0-39cf-477c-b7c6-84ab0f2bf6b2",
        "colab": {
          "base_uri": "https://localhost:8080/",
          "height": 347
        }
      },
      "cell_type": "code",
      "source": [
        "# Damos valores a los parámetros que define a una recta\n",
        "\n",
        "_w0 = 0\n",
        "_w1 = 3\n",
        "\n",
        "# Generamos una nube de puntos alrededor de la recta y ploteamos los puntos\n",
        "\n",
        "_X = np.arange(40)\n",
        "_Y = np.zeros(len(_X))\n",
        "for i in range(len(_X)):\n",
        "  _Y[i] = line(_w0,_w1,_X[i])+ np.random.randn(1)*3\n",
        "_ = plt.plot(_X, _Y, 'o')\n",
        "\n",
        "# Obteneramos los  parámetros que definen una recta que ajusta a la nube de \n",
        "# puntos la y la ploteamos\n",
        "\n",
        "w1, w0 = np.polyfit(_X, _Y, 1)\n",
        "Y = [line(w0,w1,x_i)for x_i in _X]\n",
        "_ = plt.plot(_X, Y, '-')"
      ],
      "execution_count": 0,
      "outputs": [
        {
          "output_type": "display_data",
          "data": {
            "image/png": "[encoded data removed]",
            "text/plain": [
              "<Figure size 576x396 with 1 Axes>"
            ]
          },
          "metadata": {
            "tags": []
          }
        }
      ]
    },
    {
      "metadata": {
        "id": "glDqo477a31A",
        "colab_type": "text"
      },
      "cell_type": "markdown",
      "source": [
        "###Entrenamiento y Perdida###"
      ]
    },
    {
      "metadata": {
        "id": "Ou9euxhMadlU",
        "colab_type": "text"
      },
      "cell_type": "markdown",
      "source": [
        "**Entrenar** un modelo simplemente significa aprender (determinar) valores correctos para todas variables del modelo. En nuestro caso sería encontrar $b$ y $w_1$.\n",
        "\n",
        "En un aprendizaje supervisado, el algoritmo de un aprendizaje automático construye un modelo al examinar varios ejemplos e intentar encontrar un modelo que minimice la pérdida. Este proceso se denomina **minimización del riesgo empírico**.\n",
        "\n",
        "La pérdida es una penalidad por una predicción incorrecta. Esto quiere decir que la pérdida es un número que indica qué tan incorrecta fue la predicción del modelo en un solo ejemplo. Si la predicción del modelo es perfecta, la pérdida es cero; de lo contrario, la pérdida es mayor. El objetivo de entrenar un modelo es encontrar un conjunto de ponderaciones y ordenadas al origen que, en promedio, tengan pérdidas bajas en todos los ejemplos. Por ejemplo, la siguiente figura muestra un modelo al lado izquierdo con una pérdida alta, y al lado derecho un modelo con pérdida baja. \n",
        "\n",
        "Ten en cuenta lo siguiente con respecto a la imagen:\n",
        "*   La flecha roja representa la pérdida.\n",
        "*   La línea azul representa las predicciones.\n",
        "\n",
        "<img  src=\"https://sites.google.com/site/anselyrg/home/LossSideBySide.png\"  width=700 >\n",
        "\n",
        "Las flechas rojas en la figura izquierda son mucho más largas que las de la figura derecha. Claramente, la flecha azul en la figura de la derecha es un modelo de predicción mucho más acertado que la flecha azul en la figura de la izquierda. \n",
        "\n",
        "\n",
        "\n",
        "\n"
      ]
    },
    {
      "metadata": {
        "id": "wnj3UEgIkZTC",
        "colab_type": "text"
      },
      "cell_type": "markdown",
      "source": [
        "A partir de esta idea intuitiva se puede crear una función de pérdida que sume las pérdidas individuales de una forma que tenga sentido.\n",
        "\n",
        "Una función popular de pérdida para los  Los modelos de regresión lineal es la función **Pérdida al cuadrado**,  también conocida como pérdida L2), que para un unico ejemplo sería: \n",
        "\\begin{equation}\n",
        "(y - y')^2\n",
        "\\end{equation}\n",
        "\n",
        "El **error cuadrático medio (ECM)** es el promedio de la pérdida al cuadrado de cada ejemplo. Para calcular el ECM, sumamos todas las pérdidas al cuadrado de los ejemplos individuales y, luego, lo dividimos por la cantidad de ejemplos:\n",
        "\\begin{equation}\n",
        "EMC = \\frac{1}{N}\\sum_{(x,y) \\in D} (y - predicción(x))^2\n",
        "\\end{equation}\n",
        "\n",
        "donde:\n",
        "\n",
        "*   $(x,y)$ es un ejemplo en el que\n",
        "  *   $x$ es el conjunto de atributos (temperatura) que el modelo usa para realizar las predicciones.\n",
        "  *  $y$ es la etiqueta del ejemplo (cantos por minuto).\n",
        "*   $predicción(x)$ es el resultado para las ponderaciones de atributos y la ordenada al origen ($w_1$ y $b$) .\n",
        "* $D$ es el conjunto de datos que contiene muchos ejemplos etiquetados, que son los pares .\n",
        "* $N$ es la cantidad de ejemplos en $D$.\n",
        "\n",
        "\n",
        "\n",
        " \n"
      ]
    },
    {
      "metadata": {
        "id": "JFRhUcIGnRNg",
        "colab_type": "text"
      },
      "cell_type": "markdown",
      "source": [
        "###Problema de Optimización###"
      ]
    },
    {
      "metadata": {
        "id": "dtZtlojonXbd",
        "colab_type": "text"
      },
      "cell_type": "markdown",
      "source": [
        "**Funcion objetivo**:\n",
        "\\begin{equation}\n",
        "f(b,w)=\\frac{1}{N}\\sum_{(x,y) \\in D} (y - (b+wx))^2\n",
        "\\end{equation}\n",
        "\n",
        "**Variables de decisión**:\n",
        "\n",
        "*   $w$: ponderaciones de $x$\n",
        "*   $b$:  ordenada al origen\n",
        "\n",
        "**Propiedades de la función objetivo**:\n",
        "\n",
        "¿Que tipo de función es $f$: ? ...\n",
        "\n",
        "Si calculamos la pérdida para suficiente valores posibles de $w$ y los ploteamos obtendremos un una gráfica similar a la siguiente:\n",
        "\n",
        "<img  src=\"https://sites.google.com/site/anselyrg/home/tazon.png\"  width=400 >\n",
        "\n",
        "Para el tipo de problemas de regresión que hemos visto, la representación resultante de pérdida frente a  siempre será convexa. Los problemas convexos tienen un solo mínimo local que es el mínimo global, es decir, un solo lugar en el que la pendiente es exactamente 0. \n"
      ]
    },
    {
      "metadata": {
        "id": "ABtXuVVzJ35C",
        "colab_type": "code",
        "colab": {}
      },
      "cell_type": "code",
      "source": [
        "# definimos la función error cuadratico medio\n",
        "def ecm(w0, w1, _X, _Y):\n",
        "  Y = [line(w0, w1, _x) for _x in _X]\n",
        "  r=0\n",
        "  for i in range(len(Y)):\n",
        "    r = r + (_Y[i] - Y[i])**2\n",
        "  return r / len(Y)"
      ],
      "execution_count": 0,
      "outputs": []
    },
    {
      "metadata": {
        "id": "plE37QbRlppv",
        "colab_type": "code",
        "colab": {}
      },
      "cell_type": "code",
      "source": [
        "# definimos una función que plotea la función error cuadrático medio\n",
        "\n",
        "def plotEMC(w0,w1,_X,_Y):\n",
        "  res = 100;\n",
        "  _W0 = np.linspace(-100,100,res)\n",
        "  _W1 = np.linspace(-100,100,res)\n",
        "\n",
        "  _E  = np.zeros((res, res))\n",
        "\n",
        "  for iw0, w0 in enumerate(_W0):\n",
        "    for iw1, w1 in enumerate(_W1):\n",
        "      _E[iw1,iw0] = ecm(w0,w1,_X,_Y)\n",
        "    \n",
        "\n",
        "  plt.contourf(_W0, _W1, _E, 100)\n",
        "  plt.colorbar()\n",
        "  plt.show()"
      ],
      "execution_count": 0,
      "outputs": []
    },
    {
      "metadata": {
        "id": "J3eQ0s3woJ07",
        "colab_type": "code",
        "outputId": "a196201b-ba26-48c5-bd73-0f8316b95ef2",
        "colab": {
          "base_uri": "https://localhost:8080/",
          "height": 351
        }
      },
      "cell_type": "code",
      "source": [
        "# ploteamos la función error cuadrático medio entre una recta definida por w0 y \n",
        "# w1 y la nube de puntos. \n",
        "\n",
        "plotEMC(_w0,_w1,_X,_Y)"
      ],
      "execution_count": 0,
      "outputs": [
        {
          "output_type": "display_data",
          "data": {
            "image/png": "[encoded data removed]",
            "text/plain": [
              "<Figure size 576x396 with 2 Axes>"
            ]
          },
          "metadata": {
            "tags": []
          }
        }
      ]
    },
    {
      "metadata": {
        "id": "XiTJybVL-zYd",
        "colab_type": "text"
      },
      "cell_type": "markdown",
      "source": [
        "¿Como podríamos entonces encontrar las solución Optima?\n",
        "\n",
        "<img  src=\"https://sites.google.com/site/anselyrg/home/Thinking_Face_Emoji-300x300.png\"  width=100 >"
      ]
    },
    {
      "metadata": {
        "id": "wzbcDcz8xNYN",
        "colab_type": "text"
      },
      "cell_type": "markdown",
      "source": [
        "#Tiempo para cafe#"
      ]
    },
    {
      "metadata": {
        "id": "-3VaNXkux1MR",
        "colab_type": "text"
      },
      "cell_type": "markdown",
      "source": [
        "<img  src=\"https://sites.google.com/site/anselyrg/home/coffeTime.png\"  width=100 >"
      ]
    },
    {
      "metadata": {
        "id": "OTJTxV4wxvhX",
        "colab_type": "text"
      },
      "cell_type": "markdown",
      "source": [
        "# Algoritmos de optimización de descenso del gradiente"
      ]
    },
    {
      "metadata": {
        "id": "wpgodBbtzmH-",
        "colab_type": "text"
      },
      "cell_type": "markdown",
      "source": [
        "En la sesión anterior vimos fundamentos de optimización y un ejemplo de problema de opmización en el aprendizaje automático, la mimimización  de la perdida el Aquí, nos ventraremos en algoritmos pra reducir la pérdida de manera iterativa."
      ]
    },
    {
      "metadata": {
        "id": "2FiDlqwpgHtd",
        "colab_type": "text"
      },
      "cell_type": "markdown",
      "source": [
        "## Enfoque iterativo"
      ]
    },
    {
      "metadata": {
        "id": "qgeWNi157ea-",
        "colab_type": "text"
      },
      "cell_type": "markdown",
      "source": [
        "Es posible que el aprendizaje iterativo te recuerde el juego infantil en el que los objetos estaban fríos o calientes (cerca o lejos) al intentar encontrar un elemento escondido, como un dedal. En este juego, el \"objeto escondido\" es el mejor modelo posible. Primero te arriesgarás a adivinar (\"El valor de $w$ es 0\".) y esperarás a que el sistema te indique cuál es la pérdida. Luego, intentarás adivinar otra vez (\"El valor de  $w$ es 0.5\".) y verás cuál es la pérdida. Bien, ya estás más cerca. En realidad, si juegas a este juego correctamente, por lo general siempre estarás más cerca. El verdadero truco del juego es intentar buscar el mejor modelo posible de la manera más eficaz posible."
      ]
    },
    {
      "metadata": {
        "id": "oVqKyGf3hmW0",
        "colab_type": "text"
      },
      "cell_type": "markdown",
      "source": [
        "\n",
        "La siguiente figura sugiere el proceso iterativo de prueba y error que usan los algoritmos de aprendizaje automático para entrenar un modelo:\n",
        "\n",
        "<img  src=\"https://sites.google.com/site/anselyrg/home/iterativo.png\"  width=700 >\n",
        "\n",
        "El \"modelo\" toma uno o más atributos como entrada y devuelve una predicción ($y'$) como resultado. Para simplificar, considermos nuestro modelo del ejemplo de la seción que toma un atributo y devuelve una predicción:\n",
        "\n",
        "\\begin{equation}\n",
        "y' = b+w_1 x_1\n",
        "\\end{equation}\n",
        "\n",
        "¿Qué valores iniciales deberíamos establecer para  $y$? Para la regresión lineal, los valores de inicio no son importantes. Podríamos elegir valores al azar, pero tomaremos los siguientes valores triviales en su lugar: \n",
        "\n",
        "*   $y' = 0$\n",
        "*   $b = 0$\n",
        "\n",
        "Supón que el primer valor del atributo es $10$. Al vincular ese valor con el atributo de predicción, se obtiene lo siguiente:\n",
        "\n",
        "  y' = 0 + 0(10)\n",
        "  \n",
        "  y' = 0\n",
        "  \n",
        "La parte de \"Cálculo de pérdida\" del diagrama es la función de pérdida que usará el modelo. Supón que usamos la función de pérdida al cuadrado. La función de pérdida incorpora dos valores de entrada:\n",
        "\n",
        "*   $y'$: la predicción del modelo para los atributos $x$\n",
        "*   $y$: la etiqueta correcta correspondiente a los atributos $x$.\n",
        "\n",
        "Finalmente, llegamos a la parte de \"Actualizar parámetros\" del diagrama. Aquí, el sistema de aprendizaje automático examina el valor de la función de pérdida y genera valores nuevos para  $b$ y \"w_1\". Por el momento, simplemente supón que el cuadro verde misterioso traza valores nuevos y, luego, el sistema de aprendizaje automático vuelve a evaluar todos esos atributos con todas las etiquetas; se obtiene un nuevo valor para la función de pérdida, que genera valores de parámetros nuevos. El aprendizaje continúa iterando hasta que el algoritmo descubre los parámetros del modelo con la pérdida más baja posible. En general, iteras hasta que la pérdida general deja de cambiar o, al menos, cambia muy lentamente. Cuando eso ocurre, decimos que el modelo ha convergido.\n",
        "\n"
      ]
    },
    {
      "metadata": {
        "id": "4yuN9cW7__Kh",
        "colab_type": "code",
        "colab": {}
      },
      "cell_type": "code",
      "source": [
        "def executeIterativeApproach(minLost,maxIteration, w0, w1, X, Y):\n",
        "  lost      = ecm(w0,w1,X, Y)\n",
        "  print(lost)\n",
        "  iteration = 0\n",
        "  \n",
        "  while lost > minLost and iteration<maxIteration:        \n",
        "    \n",
        "    #\n",
        "    # update w\n",
        "    #\n",
        "    \n",
        "    new_w0 = w0\n",
        "    new_w1 = w1\n",
        "    r  = np.random.rand(1)\n",
        "    rr = np.random.rand(1)  \n",
        "    \n",
        "    if r >= 0.5:\n",
        "      new_w0 = new_w0 + 0.5 - rr\n",
        "    else:\n",
        "      new_w1 = new_w1 + 0.5 - rr     \n",
        "    new_lost = ecm(new_w0, new_w1, X, Y)\n",
        "    \n",
        "    if new_lost < lost :\n",
        "      lost = new_lost\n",
        "      w0   = new_w0\n",
        "      w1   = new_w1\n",
        "      \n",
        "    print(lost)  \n",
        "      \n",
        "    plt.plot(X, Y, 'o')      \n",
        "    plt.plot([X[0],X[len(X)-1]], [line(w0,w1,X[0]),line(w0,w1,X[len(X)-1])], '-')\n",
        "       \n",
        "      \n",
        "    iteration = iteration + 1\n",
        "  \n",
        "  plt.plot([X[0],X[len(X)-1]], [line(w0,w1,X[0]),line(w0,w1,X[len(X)-1])], '-', c=\"blue\")\n",
        "  \n",
        "    "
      ],
      "execution_count": 0,
      "outputs": []
    },
    {
      "metadata": {
        "id": "u5jE4y5hD6jB",
        "colab_type": "code",
        "outputId": "086abb8d-a7bf-49ea-f8ea-c5d4da0c7205",
        "colab": {
          "base_uri": "https://localhost:8080/",
          "height": 2242
        }
      },
      "cell_type": "code",
      "source": [
        "\n",
        "executeIterativeApproach(1, 100, 0, 0, _X, _Y)\n",
        "plt.show()"
      ],
      "execution_count": 0,
      "outputs": [
        {
          "output_type": "stream",
          "text": [
            "4579.136932747252\n",
            "[4523.06821344]\n",
            "[4523.06821344]\n",
            "[4414.36171793]\n",
            "[3192.79498357]\n",
            "[2465.45131562]\n",
            "[2465.45131562]\n",
            "[2465.45131562]\n",
            "[2465.45131562]\n",
            "[2465.45131562]\n",
            "[2465.45131562]\n",
            "[2273.08786655]\n",
            "[1518.92596041]\n",
            "[1161.80713889]\n",
            "[1161.80713889]\n",
            "[1161.80713889]\n",
            "[1157.854454]\n",
            "[1139.62824199]\n",
            "[1139.62824199]\n",
            "[1139.62824199]\n",
            "[1119.16698107]\n",
            "[833.0067396]\n",
            "[833.0067396]\n",
            "[814.24179252]\n",
            "[814.24179252]\n",
            "[814.24179252]\n",
            "[740.80971572]\n",
            "[740.80971572]\n",
            "[339.70498685]\n",
            "[339.70498685]\n",
            "[339.70498685]\n",
            "[326.09914652]\n",
            "[288.11691494]\n",
            "[59.85030951]\n",
            "[10.3443945]\n",
            "[10.3443945]\n",
            "[10.3443945]\n",
            "[10.3443945]\n",
            "[10.11907229]\n",
            "[10.11907229]\n",
            "[10.11907229]\n",
            "[10.11907229]\n",
            "[10.11907229]\n",
            "[9.67943411]\n",
            "[9.67943411]\n",
            "[9.67943411]\n",
            "[9.66936107]\n",
            "[9.66936107]\n",
            "[9.66936107]\n",
            "[9.66936107]\n",
            "[9.66936107]\n",
            "[9.66936107]\n",
            "[9.66936107]\n",
            "[9.66936107]\n",
            "[9.66936107]\n",
            "[9.66936107]\n",
            "[9.66936107]\n",
            "[9.66936107]\n",
            "[9.66936107]\n",
            "[9.66936107]\n",
            "[9.63979254]\n",
            "[9.63979254]\n",
            "[9.63979254]\n",
            "[9.63979254]\n",
            "[9.63979254]\n",
            "[9.63979254]\n",
            "[9.63979254]\n",
            "[9.63979254]\n",
            "[9.63979254]\n",
            "[9.63979254]\n",
            "[9.63979254]\n",
            "[9.63979254]\n",
            "[9.63979254]\n",
            "[9.60653847]\n",
            "[9.59832581]\n",
            "[9.59832581]\n",
            "[9.59832581]\n",
            "[9.59832581]\n",
            "[9.59832581]\n",
            "[9.59832581]\n",
            "[9.59832581]\n",
            "[9.59832581]\n",
            "[9.59832581]\n",
            "[9.59832581]\n",
            "[9.45980189]\n",
            "[9.15754661]\n",
            "[9.15754661]\n",
            "[9.15754661]\n",
            "[9.15754661]\n",
            "[9.15754661]\n",
            "[9.15754661]\n",
            "[9.15754661]\n",
            "[9.15754661]\n",
            "[9.15754661]\n",
            "[9.15754661]\n",
            "[9.15754661]\n",
            "[9.15754661]\n",
            "[8.95417874]\n",
            "[8.95417874]\n",
            "[8.95417874]\n",
            "[8.95417874]\n"
          ],
          "name": "stdout"
        },
        {
          "output_type": "display_data",
          "data": {
            "image/png": "[encoded data removed]",
            "text/plain": [
              "<Figure size 576x396 with 1 Axes>"
            ]
          },
          "metadata": {
            "tags": []
          }
        }
      ]
    },
    {
      "metadata": {
        "id": "3bclpHIcgIOY",
        "colab_type": "text"
      },
      "cell_type": "markdown",
      "source": [
        "## Descenso del gradiente\n",
        "\n",
        "\n"
      ]
    },
    {
      "metadata": {
        "id": "xL5YR8y3-Z4Z",
        "colab_type": "text"
      },
      "cell_type": "markdown",
      "source": [
        "El diagrama de enfoque iterativo contenía un cuadro verde con afirmaciones sin fundamento llamado \"Actualizar parámetros\". Ahora reemplazaremos esa solución algorítmica mágica por algo más sustancial.\n",
        "\n",
        "Recordemos  que para el tipo de problemas de regresión como el que hemos estado examinando, la representación resultante de pérdida frente a  siempre será convexa:\n",
        "\n",
        "<img  src=\"https://sites.google.com/site/anselyrg/home/tazon.png\"  width=400 >\n",
        "\n",
        "Los problemas convexos tienen un solo mínimo, es decir, un solo lugar en el que la pendiente es exactamente 0. Ese mínimo es donde converge la función de pérdida.\n"
      ]
    },
    {
      "metadata": {
        "id": "ZnwCj1IEQ7JA",
        "colab_type": "text"
      },
      "cell_type": "markdown",
      "source": [
        "Calcular la función de pérdida para cada valor concebible de $w_1$ en todo el conjunto de datos sería una manera ineficaz de buscar el punto de convergencia. Examinemos un mecanismo más útil, muy popular en el aprendizaje automático, denominado **descenso de gradientes**."
      ]
    },
    {
      "metadata": {
        "id": "EijjLUkhRJ80",
        "colab_type": "text"
      },
      "cell_type": "markdown",
      "source": [
        "### Derivadas parciales y gradiente"
      ]
    },
    {
      "metadata": {
        "id": "zO2q7d88RUO4",
        "colab_type": "text"
      },
      "cell_type": "markdown",
      "source": [
        "**Derivadas parciales**\n",
        "\n",
        "<img  src=\"https://sites.google.com/site/anselyrg/home/dp1.png\"  width=700 >\n",
        "\n",
        "<img  src=\"https://sites.google.com/site/anselyrg/home/dp2.png\"  width=700 >\n",
        "\n",
        "**Gradiente**\n",
        "\n",
        "<img  src=\"https://sites.google.com/site/anselyrg/home/g1.png\"  width=700 >\n",
        "\n",
        "<img  src=\"https://sites.google.com/site/anselyrg/home/g2.png\"  width=700 >\n",
        "\n",
        "<img  src=\"https://sites.google.com/site/anselyrg/home/g3.png\"  width=700 >\n",
        "\n",
        "<img  src=\"https://sites.google.com/site/anselyrg/home/g4.png\"  width=700 >\n",
        "\n"
      ]
    },
    {
      "metadata": {
        "id": "X5zAIRTQVIjE",
        "colab_type": "text"
      },
      "cell_type": "markdown",
      "source": [
        "### .."
      ]
    },
    {
      "metadata": {
        "id": "OBKNKayE7s0G",
        "colab_type": "text"
      },
      "cell_type": "markdown",
      "source": [
        "La primera etapa en el descenso de gradientes es elegir un valor de inicio (un punto de partida) para $w_1$. El punto de partida no es muy importante; por lo tanto, muchos algoritmos simplemente establecen  $w_1$ en 0 o eligen un valor al azar. En la siguiente figura, se muestra que elegimos un punto de partida mayor que 0.\n",
        "\n",
        "<img  src=\"https://sites.google.com/site/anselyrg/home/tazon1.png\"  width=400 >\n"
      ]
    },
    {
      "metadata": {
        "id": "0S5Wk9W8_UAf",
        "colab_type": "text"
      },
      "cell_type": "markdown",
      "source": [
        "Luego, el algoritmo de descenso de gradientes calcula el **gradiente** de la curva de pérdida en el punto de partida. En resumen, una gradiente es un vector de derivadas parciales; indica por dónde es más cerca o más lejos. Ten en cuenta que la gradiente de pérdida con respecto a un solo peso  es equivalente a la derivada.\n",
        "\n",
        "Ten en cuenta que la gradiente es un vector,  tiene las dos características siguientes:\n",
        "\n",
        "*   una dirección\n",
        "*   una magnitud\n",
        "\n",
        "La gradiente siempre apunta en la dirección del aumento más empinado de la función de pérdida. El algoritmo de descenso de gradientes toma un paso en dirección de la gradiente negativa para reducir la pérdida lo más rápido posible.\n",
        "\n",
        "<img  src=\"https://sites.google.com/site/anselyrg/home/tazon2.png\"  width=400 >"
      ]
    },
    {
      "metadata": {
        "id": "03PDEDL5_WHg",
        "colab_type": "text"
      },
      "cell_type": "markdown",
      "source": [
        "Para determinar el siguiente punto a lo largo de la curva de la función de pérdida, el algoritmo de descenso de gradientes agrega alguna fracción de la magnitud de la gradiente al punto de partida, como se muestra en la siguiente figura:\n",
        "\n",
        "<img  src=\"https://sites.google.com/site/anselyrg/home/tazon3.png\"  width=400 >\n",
        "\n",
        "Luego, el descenso de gradientes repite este proceso y se acerca cada vez más al mínimo."
      ]
    },
    {
      "metadata": {
        "id": "updGUSVvCSMo",
        "colab_type": "text"
      },
      "cell_type": "markdown",
      "source": [
        "Como se observó, el vector de gradiente tiene una dirección y una magnitud. Los algoritmos de descenso de gradientes multiplican la gradiente por un escalar conocido como tasa de aprendizaje (o tamaño del paso en algunas ocasiones) para determinar el siguiente punto. Por ejemplo, si la magnitud de la gradiente es 2.5 y la tasa de aprendizaje es 0.01, el algoritmo de descenso de gradientes tomará el siguiente punto 0.025 más alejado del punto anterior.\n",
        "\n",
        "Los hiperparámetros son los controles que los programadores ajustan en los algoritmos de aprendizaje automático. La mayoría de los programadores de aprendizaje automático pasan gran parte de su tiempo ajustando la tasa de aprendizaje. "
      ]
    },
    {
      "metadata": {
        "id": "UxHPmz4mFsNs",
        "colab_type": "text"
      },
      "cell_type": "markdown",
      "source": [
        "Si eliges una tasa de aprendizaje muy pequeña, el aprendizaje llevará demasiado tiempo:\n",
        "\n",
        "<img  src=\"https://sites.google.com/site/anselyrg/home/tazon4a.png\"  width=400>"
      ]
    },
    {
      "metadata": {
        "id": "wevEIEEUCtmH",
        "colab_type": "text"
      },
      "cell_type": "markdown",
      "source": [
        "A la inversa, si especificas una tasa de aprendizaje muy grande, el siguiente punto rebotará al azar eternamente en la parte inferior.\n",
        "\n",
        "<img  src=\"https://sites.google.com/site/anselyrg/home/tazon5.png\"  width=500 >"
      ]
    },
    {
      "metadata": {
        "id": "lZj7HykyDByQ",
        "colab_type": "text"
      },
      "cell_type": "markdown",
      "source": [
        "Hay una tasa de aprendizaje con valor dorado para cada problema de regresión. El valor dorado está relacionado con qué tan plana es la función de pérdida. Si sabes que el gradiente de la función de pérdida es pequeño, usa una tasa de aprendizaje mayor, que compensará el gradiente pequeño y dará como resultado un tamaño del paso más grande.\n",
        "\n",
        "<img  src=\"https://sites.google.com/site/anselyrg/home/tazon6.png\"  width=500 >"
      ]
    },
    {
      "metadata": {
        "id": "k_CTzgH8pEjX",
        "colab_type": "code",
        "colab": {}
      },
      "cell_type": "code",
      "source": [
        "def grad(w0,w1,X,Y):\n",
        "  h = 0.000000001\n",
        "  G = np.zeros(2)\n",
        "  \n",
        "  G[0] = (ecm(w0+h,w1,X,Y)-ecm(w0,w1,X,Y)) / h\n",
        "  G[1] = (ecm(w0,w1+h,X,Y)-ecm(w0,w1,X,Y)) / h\n",
        "  \n",
        "  return G\n",
        "  "
      ],
      "execution_count": 0,
      "outputs": []
    },
    {
      "metadata": {
        "id": "NVGCEDb_gduY",
        "colab_type": "code",
        "colab": {}
      },
      "cell_type": "code",
      "source": [
        "def executeGradientDescent(minLost, maxIteration, w0, w1, X, Y, lr): \n",
        "  lost      = ecm(w0,w1,X, Y)\n",
        "  print(lost)\n",
        "  iteration = 0\n",
        "  \n",
        "  while lost > minLost and iteration<maxIteration:        \n",
        "    \n",
        "    #\n",
        "    # update w\n",
        "    #\n",
        "    \n",
        "    G = grad(w0,w1,X,Y)\n",
        "    \n",
        "    w0 = w0 - lr * G[0]\n",
        "    w1 = w1 - lr * G[1]   \n",
        "    lost = ecm(w0, w1, X, Y)\n",
        "    \n",
        "    print(lost)\n",
        "              \n",
        "    plt.plot(X, Y, 'o')      \n",
        "    plt.plot([X[0],X[len(X)-1]], [line(w0,w1,X[0]),line(w0,w1,X[len(X)-1])], '-')\n",
        "       \n",
        "      \n",
        "    iteration = iteration + 1\n",
        "  \n",
        "  plt.plot([X[0],X[len(X)-1]], [line(w0,w1,X[0]),line(w0,w1,X[len(X)-1])], '-', c=\"blue\")"
      ],
      "execution_count": 0,
      "outputs": []
    },
    {
      "metadata": {
        "id": "1mtMXv0ctv3p",
        "colab_type": "code",
        "outputId": "15ffef77-91e5-4953-9dcd-f5e617efedfa",
        "colab": {
          "base_uri": "https://localhost:8080/",
          "height": 553
        }
      },
      "cell_type": "code",
      "source": [
        "executeGradientDescent(1, 10, 0, 0, _X, _Y, 0.001)\n",
        "plt.show()"
      ],
      "execution_count": 0,
      "outputs": [
        {
          "output_type": "stream",
          "text": [
            "4579.136932747252\n",
            "12.541765369163096\n",
            "8.837259987599769\n",
            "8.834203870039941\n",
            "8.834150478429148\n",
            "8.834099575838618\n",
            "8.834048728225685\n",
            "8.833997932895006\n",
            "8.83394719030559\n",
            "8.833896500032036\n",
            "8.833845862433165\n"
          ],
          "name": "stdout"
        },
        {
          "output_type": "display_data",
          "data": {
            "image/png": "[encoded data removed]",
            "text/plain": [
              "<Figure size 576x396 with 1 Axes>"
            ]
          },
          "metadata": {
            "tags": []
          }
        }
      ]
    },
    {
      "metadata": {
        "id": "COXLqzBg-Txg",
        "colab_type": "text"
      },
      "cell_type": "markdown",
      "source": [
        ""
      ]
    },
    {
      "metadata": {
        "id": "1HM1dYqMgKP-",
        "colab_type": "text"
      },
      "cell_type": "markdown",
      "source": [
        "## Descenso del gradiente estocástico \n"
      ]
    },
    {
      "metadata": {
        "id": "9E_GWajeGDFM",
        "colab_type": "text"
      },
      "cell_type": "markdown",
      "source": [
        "En el descenso de gradientes, un lote es la cantidad total de ejemplos que usas para calcular la gradiente en una sola iteración. Hasta ahora, hemos supuesto que el lote era el conjunto de datos completo. Al trabajar a gran escala, los conjuntos de datos suelen tener miles de millones o incluso cientos de miles de millones de ejemplos. Además, los conjuntos de datos con frecuencia contienen inmensas cantidades de atributos. En consecuencia, un lote puede ser enorme. Un lote muy grande puede causar que incluso una sola iteración tome un tiempo muy prolongado para calcularse.\n",
        "\n",
        "Es probable que un conjunto de datos grande con ejemplos muestreados al azar contenga datos redundantes. De hecho, la redundancia se vuelve más probable a medida que aumenta el tamaño del lote. Un poco de redundancia puede ser útil para atenuar las gradientes inconsistentes, pero los lotes enormes tienden a no tener un valor mucho más predictivo que los lotes grandes.\n",
        "\n",
        "¿Cómo sería si pudiéramos obtener la gradiente correcta en promedio con mucho menos cómputo? Al elegir ejemplos al azar de nuestro conjunto de datos, podríamos estimar (si bien de manera inconsistente) un promedio grande de otro mucho más pequeño. **El descenso de gradiente estocástico (SGD**) lleva esta idea al extremo: usa un solo ejemplo (**un tamaño del lote de 1**) por iteración. Cuando se dan demasiadas iteraciones, el SGD funciona, pero es muy inconsistente. El término \"estocástico\" indica que el ejemplo único que compone cada lote se elige al azar."
      ]
    },
    {
      "metadata": {
        "id": "3uN4z8dvIifa",
        "colab_type": "code",
        "outputId": "d8fd3217-e8c3-4c61-805b-1c56c54a3882",
        "colab": {
          "base_uri": "https://localhost:8080/",
          "height": 347
        }
      },
      "cell_type": "code",
      "source": [
        "# Damos valores a los parámetros que define a una recta\n",
        "\n",
        "_w0 = 0\n",
        "_w1 = 3\n",
        "\n",
        "# Generamos una nube de puntos alrededor de la recta y ploteamos los puntos\n",
        "\n",
        "_X = np.arange(1000)\n",
        "_Y = np.zeros(len(_X))\n",
        "for i in range(len(_X)):\n",
        "  _Y[i] = line(_w0,_w1,_X[i])+ np.random.randn(1)*3\n",
        "_ = plt.plot(_X, _Y, 'o')\n",
        "\n",
        "# Obteneramos los  parámetros que definen una recta que ajusta a la nube de \n",
        "# puntos la y la ploteamos\n",
        "\n",
        "w1, w0 = np.polyfit(_X, _Y, 1)\n",
        "Y = [line(w0,w1,x_i)for x_i in _X]\n",
        "_ = plt.plot(_X, Y, '-')"
      ],
      "execution_count": 0,
      "outputs": [
        {
          "output_type": "display_data",
          "data": {
            "image/png": "[encoded data removed]",
            "text/plain": [
              "<Figure size 576x396 with 1 Axes>"
            ]
          },
          "metadata": {
            "tags": []
          }
        }
      ]
    },
    {
      "metadata": {
        "id": "TWkUOsWGIEkB",
        "colab_type": "code",
        "colab": {}
      },
      "cell_type": "code",
      "source": [
        "def executeStochasticGradientDescent(minLost, maxIteration, w0, w1, X, Y, lr): \n",
        "  lost      = ecm(w0,w1,X, Y)\n",
        "  print(lost)\n",
        "  iteration = 0\n",
        "  \n",
        "  while lost > minLost and iteration<maxIteration:        \n",
        "    \n",
        "    #\n",
        "    # update w\n",
        "    #\n",
        "    \n",
        "    index =  np.random.randint(len(X), size=1)\n",
        "\n",
        "    XX = [X[index]]\n",
        "    YY = [Y[index]]\n",
        "        \n",
        "    G = grad(w0,w1,XX,YY)\n",
        "    \n",
        "    w0 = w0 - lr * G[0]\n",
        "    w1 = w1 - lr * G[1]   \n",
        "    lost = ecm(w0, w1, X, Y)\n",
        "    \n",
        "    print(lost)\n",
        "              \n",
        "    plt.plot(X, Y, 'o')      \n",
        "    plt.plot([X[0],X[len(X)-1]], [line(w0,w1,X[0]),line(w0,w1,X[len(X)-1])], '-')\n",
        "       \n",
        "    \n",
        "      \n",
        "    iteration = iteration + 1\n",
        "  \n",
        "  plt.plot([X[0],X[len(X)-1]], [line(w0,w1,X[0]),line(w0,w1,X[len(X)-1])], '-', c=\"blue\")"
      ],
      "execution_count": 0,
      "outputs": []
    },
    {
      "metadata": {
        "id": "uVoF5fwWW2az",
        "colab_type": "code",
        "outputId": "2dbf5ab0-09ed-4f98-a7a7-e2bbfcebc936",
        "colab": {
          "base_uri": "https://localhost:8080/",
          "height": 553
        }
      },
      "cell_type": "code",
      "source": [
        "executeStochasticGradientDescent(1, 10, 0, 0, _X, _Y, 0.000001)\n",
        "plt.show()"
      ],
      "execution_count": 0,
      "outputs": [
        {
          "output_type": "stream",
          "text": [
            "2995652.1638804693\n",
            "1738898.7999444308\n",
            "958780.041275593\n",
            "565906.5694194642\n",
            "243795.64907488055\n",
            "110222.20304625535\n",
            "56616.113227197064\n",
            "16321.674270573252\n",
            "7763.133376146943\n",
            "3084.073396454964\n",
            "3067.130269212129\n"
          ],
          "name": "stdout"
        },
        {
          "output_type": "display_data",
          "data": {
            "image/png": "[encoded data removed]",
            "text/plain": [
              "<Figure size 576x396 with 1 Axes>"
            ]
          },
          "metadata": {
            "tags": []
          }
        }
      ]
    },
    {
      "metadata": {
        "id": "mJg5kn8fg3g5",
        "colab_type": "text"
      },
      "cell_type": "markdown",
      "source": [
        "## Descenso de gradiente estocástico de minilote"
      ]
    },
    {
      "metadata": {
        "id": "4YUbz8v_Hf4c",
        "colab_type": "text"
      },
      "cell_type": "markdown",
      "source": [
        "El descenso de gradiente estocástico de minilote (SGD de minilote) es un equilibrio entre la iteración de lote completo y el SGD. Un minilote generalmente tiene entre 10 y 1,000 ejemplos, elegidos al azar. El SGD de minilote reduce la cantidad de inconsistencia en el SGD, pero sigue siendo más eficaz que el lote completo.\n",
        "\n",
        "Para simplificar la explicación, nos concentramos en el descenso de gradientes para un solo atributo. Te garantizamos que el descenso de gradientes también funciona en conjuntos de varios atributos."
      ]
    },
    {
      "metadata": {
        "id": "aTpRA_0uc3yt",
        "colab_type": "code",
        "colab": {}
      },
      "cell_type": "code",
      "source": [
        "def executeBatchStochasticGradientDescent(minLost, maxIteration, w0, w1, X, Y, lr, bs): \n",
        "  lost      = ecm(w0,w1,X, Y)\n",
        "  print(lost)\n",
        "  iteration = 0\n",
        "  \n",
        "  while lost > minLost and iteration<maxIteration:        \n",
        "    \n",
        "    #\n",
        "    # update w\n",
        "    #\n",
        "    \n",
        "    XX = np.zeros(bs)\n",
        "    YY = np.zeros(bs)\n",
        "    \n",
        "    for i in range(len(XX)):    \n",
        "      index =  np.random.randint(len(X), size=1)\n",
        "      XX[i] = X[index]\n",
        "      YY[i] = Y[index]\n",
        "        \n",
        "    G = grad(w0,w1,XX,YY)\n",
        "    \n",
        "    w0 = w0 - lr * G[0]\n",
        "    w1 = w1 - lr * G[1]   \n",
        "    lost = ecm(w0, w1, X, Y)\n",
        "    \n",
        "    print(lost)\n",
        "              \n",
        "    plt.plot(X, Y, 'o')      \n",
        "    plt.plot([X[0],X[len(X)-1]], [line(w0,w1,X[0]),line(w0,w1,X[len(X)-1])], '-')\n",
        "       \n",
        "    \n",
        "      \n",
        "    iteration = iteration + 1\n",
        "  \n",
        "  plt.plot([X[0],X[len(X)-1]], [line(w0,w1,X[0]),line(w0,w1,X[len(X)-1])], '-', c=\"blue\")"
      ],
      "execution_count": 0,
      "outputs": []
    },
    {
      "metadata": {
        "id": "KnYU4sMAdYAn",
        "colab_type": "code",
        "outputId": "83af3cf9-e2f6-4303-d91d-1ef4da7b5d2f",
        "colab": {
          "base_uri": "https://localhost:8080/",
          "height": 553
        }
      },
      "cell_type": "code",
      "source": [
        "executeBatchStochasticGradientDescent(1, 10, 0, 0, _X, _Y, 0.000001,10)\n",
        "plt.show()"
      ],
      "execution_count": 0,
      "outputs": [
        {
          "output_type": "stream",
          "text": [
            "2995190.482664725\n",
            "591811.5703397659\n",
            "172288.6920290225\n",
            "41866.85903863613\n",
            "541.9132202590323\n",
            "87.86323374005853\n",
            "13.78626083927755\n",
            "10.43204761824842\n",
            "9.214788249047526\n",
            "9.180927546785576\n",
            "9.899221134552896\n"
          ],
          "name": "stdout"
        },
        {
          "output_type": "display_data",
          "data": {
            "image/png": "[encoded data removed]",
            "text/plain": [
              "<Figure size 576x396 with 1 Axes>"
            ]
          },
          "metadata": {
            "tags": []
          }
        }
      ]
    }
  ]
}